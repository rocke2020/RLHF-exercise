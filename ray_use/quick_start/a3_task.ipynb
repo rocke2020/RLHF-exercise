{
 "cells": [
  {
   "cell_type": "code",
   "execution_count": 3,
   "id": "71878ff8",
   "metadata": {},
   "outputs": [
    {
     "name": "stdout",
     "output_type": "stream",
     "text": [
      "type(o1) = <class 'int'> o1 = 1\n",
      "type(o2) = <class 'int'> o2 = 2\n",
      "type(ray.get(object_refs)) = <class 'tuple'> ray.get(object_refs) = (1, 2)\n"
     ]
    }
   ],
   "source": [
    "import ray\n",
    "\n",
    "@ray.remote(num_gpus=1, max_calls=1, num_returns=2)\n",
    "def f():\n",
    "    return 1, 2\n",
    "\n",
    "f_with_2_gpus = f.options(num_gpus=2)\n",
    "object_refs = f_with_2_gpus.remote()\n",
    "assert ray.get(object_refs) == [1, 2]\n",
    "o1, o2 = ray.get(object_refs)\n",
    "print(f'{type(o1) = } {o1 = }')\n",
    "print(f'{type(o2) = } {o2 = }') \n",
    "\n",
    "@ray.remote(num_gpus=1, max_calls=1)\n",
    "def f2():\n",
    "    return 1, 2\n",
    "\n",
    "f2_with_2_gpus = f2.options(num_gpus=2)\n",
    "object_refs = f2_with_2_gpus.remote()\n",
    "print(f'{type(ray.get(object_refs)) = } {ray.get(object_refs) = }')"
   ]
  }
 ],
 "metadata": {
  "kernelspec": {
   "display_name": "Python 3",
   "language": "python",
   "name": "python3"
  },
  "language_info": {
   "codemirror_mode": {
    "name": "ipython",
    "version": 3
   },
   "file_extension": ".py",
   "mimetype": "text/x-python",
   "name": "python",
   "nbconvert_exporter": "python",
   "pygments_lexer": "ipython3",
   "version": "3.10.0"
  }
 },
 "nbformat": 4,
 "nbformat_minor": 5
}
