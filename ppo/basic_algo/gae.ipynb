{
 "cells": [
  {
   "cell_type": "code",
   "execution_count": null,
   "metadata": {},
   "outputs": [
    {
     "name": "stdout",
     "output_type": "stream",
     "text": [
      "len(returns) = 5 len(values) = 6\n",
      "([4.469540486760741, 3.8391030324218747, 3.13529421875, 2.3501874999999997, 1.475], array([ 1.34540754,  0.73717169,  0.06783944, -0.66918963, -1.48122905]))\n"
     ]
    }
   ],
   "source": [
    "\"\"\" https://medium.com/deepgamingai/proximal-policy-optimization-tutorial-part-2-2-gae-and-ppo-loss-22337981f815 \"\"\"\n",
    "import numpy as np\n",
    "\n",
    "gamma = 0.95\n",
    "lmbda = 0.95\n",
    "\n",
    "\n",
    "def get_advantages(values, masks, rewards):\n",
    "    \"\"\"\n",
    "    Args:\n",
    "    values: value function predictions\n",
    "    masks: indicates which steps are the last steps in the episodes\n",
    "    rewards: discounted rewards\n",
    "        len(values) == len(masks) + 1\n",
    "        len(masks) == len(rewards)\n",
    "    \"\"\"\n",
    "    returns = []\n",
    "    gae = 0\n",
    "    for i in reversed(range(len(rewards))):\n",
    "        delta = rewards[i] + gamma * values[i + 1] * masks[i] - values[i]\n",
    "        gae = delta + gamma * lmbda * masks[i] * gae\n",
    "        returns.insert(0, gae + values[i])\n",
    "\n",
    "    adv = np.array(returns) - values[:-1]\n",
    "    return returns, (adv - np.mean(adv)) / (np.std(adv) + 1e-10)\n",
    "\n",
    "\n",
    "r = get_advantages([0.0, 0.1, 0.2, 0.3, 0.4, 0.5], [1, 1, 1, 1, 1], [1, 1, 1, 1, 1])\n",
    "print(r)"
   ]
  }
 ],
 "metadata": {
  "kernelspec": {
   "display_name": "Python 3",
   "language": "python",
   "name": "python3"
  },
  "language_info": {
   "codemirror_mode": {
    "name": "ipython",
    "version": 3
   },
   "file_extension": ".py",
   "mimetype": "text/x-python",
   "name": "python",
   "nbconvert_exporter": "python",
   "pygments_lexer": "ipython3",
   "version": "3.10.16"
  }
 },
 "nbformat": 4,
 "nbformat_minor": 2
}
