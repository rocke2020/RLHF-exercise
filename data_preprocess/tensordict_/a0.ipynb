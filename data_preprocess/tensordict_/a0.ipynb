{
 "cells": [
  {
   "cell_type": "code",
   "execution_count": 1,
   "metadata": {},
   "outputs": [
    {
     "name": "stdout",
     "output_type": "stream",
     "text": [
      "TensorDict(\n",
      "    fields={\n",
      "        a: Tensor(shape=torch.Size([3, 4]), device=cpu, dtype=torch.float32, is_shared=False),\n",
      "        b: Tensor(shape=torch.Size([3, 4, 5]), device=cpu, dtype=torch.float32, is_shared=False)},\n",
      "    batch_size=torch.Size([3, 4]),\n",
      "    device=None,\n",
      "    is_shared=False)\n",
      "TensorDict(\n",
      "    fields={\n",
      "        a: Tensor(shape=torch.Size([2]), device=cpu, dtype=torch.float32, is_shared=False),\n",
      "        b: Tensor(shape=torch.Size([2, 5]), device=cpu, dtype=torch.float32, is_shared=False)},\n",
      "    batch_size=torch.Size([2]),\n",
      "    device=None,\n",
      "    is_shared=False)\n",
      "tensordict[0] = TensorDict(\n",
      "    fields={\n",
      "        a: Tensor(shape=torch.Size([4]), device=cpu, dtype=torch.float32, is_shared=False),\n",
      "        b: Tensor(shape=torch.Size([4, 5]), device=cpu, dtype=torch.float32, is_shared=False)},\n",
      "    batch_size=torch.Size([4]),\n",
      "    device=None,\n",
      "    is_shared=False)\n",
      "chunks = (TensorDict(\n",
      "    fields={\n",
      "        a: Tensor(shape=torch.Size([3, 3]), device=cpu, dtype=torch.float32, is_shared=False),\n",
      "        b: Tensor(shape=torch.Size([3, 3, 5]), device=cpu, dtype=torch.float32, is_shared=False)},\n",
      "    batch_size=torch.Size([3, 3]),\n",
      "    device=None,\n",
      "    is_shared=False), TensorDict(\n",
      "    fields={\n",
      "        a: Tensor(shape=torch.Size([3, 1]), device=cpu, dtype=torch.float32, is_shared=False),\n",
      "        b: Tensor(shape=torch.Size([3, 1, 5]), device=cpu, dtype=torch.float32, is_shared=False)},\n",
      "    batch_size=torch.Size([3, 1]),\n",
      "    device=None,\n",
      "    is_shared=False))\n",
      "TensorDict(\n",
      "    fields={\n",
      "        a: Tensor(shape=torch.Size([3, 4]), device=cpu, dtype=torch.float32, is_shared=False),\n",
      "        b: Tensor(shape=torch.Size([3, 4, 5]), device=cpu, dtype=torch.float32, is_shared=False)},\n",
      "    batch_size=torch.Size([]),\n",
      "    device=None,\n",
      "    is_shared=False)\n",
      "ok\n",
      "tensordict.keys() = _StringKeys(dict_keys(['a', 'b']))\n"
     ]
    }
   ],
   "source": [
    "import torch\n",
    "from tensordict.tensordict import TensorDict\n",
    "\n",
    "\n",
    "a = torch.rand(3, 4)\n",
    "b = torch.rand(3, 4, 5)\n",
    "tensordict = TensorDict({\"a\": a, \"b\": b}, batch_size=[3, 4])\n",
    "print(tensordict)\n",
    "indexed_tensordict = tensordict[:2, 1]\n",
    "print(indexed_tensordict)\n",
    "assert indexed_tensordict[\"a\"].shape == torch.Size([2])\n",
    "assert indexed_tensordict[\"b\"].shape == torch.Size([2, 5])\n",
    "print(f'{tensordict[0] = }')\n",
    "chunks = tensordict.split([3, 1], dim=1)\n",
    "assert chunks[0].batch_size == torch.Size([3, 3])\n",
    "assert chunks[1].batch_size == torch.Size([3, 1])\n",
    "torch.testing.assert_close(chunks[0][\"a\"], tensordict[\"a\"][:, :-1])\n",
    "print(f'{chunks = }')\n",
    "\n",
    "# Error, have to explicitly input batch_size argument!\n",
    "_tensordict = TensorDict({\"a\": a, \"b\": b})\n",
    "print(_tensordict)\n",
    "# raise error\n",
    "# indexed_tensordict = _tensordict[:2, 1]\n",
    "\n",
    "if 'a' in tensordict:\n",
    "    print('ok')\n",
    "print(f'{tensordict.keys() = }')\n"
   ]
  },
  {
   "cell_type": "code",
   "execution_count": 9,
   "metadata": {},
   "outputs": [
    {
     "name": "stdout",
     "output_type": "stream",
     "text": [
      "2\n",
      "TensorDict(\n",
      "    fields={\n",
      "        a: Tensor(shape=torch.Size([3, 4]), device=cpu, dtype=torch.float32, is_shared=False),\n",
      "        b: Tensor(shape=torch.Size([3, 4, 5]), device=cpu, dtype=torch.float32, is_shared=False)},\n",
      "    batch_size=torch.Size([3, 4]),\n",
      "    device=None,\n",
      "    is_shared=False)\n"
     ]
    }
   ],
   "source": [
    "a = torch.rand(3, 4)\n",
    "b = torch.rand(3, 4, 5)\n",
    "tensordict = TensorDict({\"a\": a, \"b\": b}, [3, 4])\n",
    "print(tensordict.batch_dims)\n",
    "print(tensordict)"
   ]
  }
 ],
 "metadata": {
  "kernelspec": {
   "display_name": "v4",
   "language": "python",
   "name": "python3"
  },
  "language_info": {
   "codemirror_mode": {
    "name": "ipython",
    "version": 3
   },
   "file_extension": ".py",
   "mimetype": "text/x-python",
   "name": "python",
   "nbconvert_exporter": "python",
   "pygments_lexer": "ipython3",
   "version": "3.10.0"
  }
 },
 "nbformat": 4,
 "nbformat_minor": 2
}
